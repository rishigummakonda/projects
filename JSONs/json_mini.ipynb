{
 "cells": [
  {
   "cell_type": "code",
   "execution_count": 71,
   "metadata": {},
   "outputs": [],
   "source": [
    "import pandas as pd\n",
    "from collections import Counter\n",
    "import json\n",
    "from pandas.io.json import json_normalize\n",
    "import numpy as np"
   ]
  },
  {
   "cell_type": "code",
   "execution_count": 36,
   "metadata": {},
   "outputs": [
    {
     "name": "stdout",
     "output_type": "stream",
     "text": [
      "the 10 countries with most projects:\n"
     ]
    },
    {
     "data": {
      "text/plain": [
       "China                 19\n",
       "Indonesia             19\n",
       "Vietnam               17\n",
       "India                 16\n",
       "Yemen, Republic of    13\n",
       "Morocco               12\n",
       "Nepal                 12\n",
       "Bangladesh            12\n",
       "Africa                11\n",
       "Mozambique            11\n",
       "Name: countryshortname, dtype: int64"
      ]
     },
     "execution_count": 36,
     "metadata": {},
     "output_type": "execute_result"
    }
   ],
   "source": [
    "#Create DataFrame from file\n",
    "path='/Users/rishigummakonda/Desktop/Springboard_Github/json_project/world_bank_projects.json'\n",
    "wb_df=pd.read_json(path)\n",
    "\n",
    "#1. Find the 10 countries with most projects\n",
    "print('the 10 countries with most projects:')\n",
    "wb_df['countryshortname'].value_counts().head(10)"
   ]
  },
  {
   "cell_type": "code",
   "execution_count": 101,
   "metadata": {},
   "outputs": [
    {
     "data": {
      "text/html": [
       "<div>\n",
       "<style scoped>\n",
       "    .dataframe tbody tr th:only-of-type {\n",
       "        vertical-align: middle;\n",
       "    }\n",
       "\n",
       "    .dataframe tbody tr th {\n",
       "        vertical-align: top;\n",
       "    }\n",
       "\n",
       "    .dataframe thead th {\n",
       "        text-align: right;\n",
       "    }\n",
       "</style>\n",
       "<table border=\"1\" class=\"dataframe\">\n",
       "  <thead>\n",
       "    <tr style=\"text-align: right;\">\n",
       "      <th></th>\n",
       "      <th>code</th>\n",
       "      <th>name</th>\n",
       "    </tr>\n",
       "  </thead>\n",
       "  <tbody>\n",
       "    <tr>\n",
       "      <th>0</th>\n",
       "      <td>8</td>\n",
       "      <td>Human development</td>\n",
       "    </tr>\n",
       "    <tr>\n",
       "      <th>1</th>\n",
       "      <td>11</td>\n",
       "      <td></td>\n",
       "    </tr>\n",
       "    <tr>\n",
       "      <th>2</th>\n",
       "      <td>1</td>\n",
       "      <td>Economic management</td>\n",
       "    </tr>\n",
       "    <tr>\n",
       "      <th>3</th>\n",
       "      <td>6</td>\n",
       "      <td>Social protection and risk management</td>\n",
       "    </tr>\n",
       "    <tr>\n",
       "      <th>4</th>\n",
       "      <td>5</td>\n",
       "      <td>Trade and integration</td>\n",
       "    </tr>\n",
       "  </tbody>\n",
       "</table>\n",
       "</div>"
      ],
      "text/plain": [
       "  code                                   name\n",
       "0    8                      Human development\n",
       "1   11                                       \n",
       "2    1                    Economic management\n",
       "3    6  Social protection and risk management\n",
       "4    5                  Trade and integration"
      ]
     },
     "execution_count": 101,
     "metadata": {},
     "output_type": "execute_result"
    }
   ],
   "source": [
    "#2. Find the top 10 major project themes (using column 'mjtheme_namecode')\n",
    "wb_df=json.load(open(path))\n",
    "wb_df=json_normalize(wb_df,'mjtheme_namecode')\n",
    "wb_df.head()"
   ]
  },
  {
   "cell_type": "code",
   "execution_count": 108,
   "metadata": {},
   "outputs": [
    {
     "name": "stdout",
     "output_type": "stream",
     "text": [
      "\n",
      "Top 10 Name and Count (without names filled):\n",
      "Environment and natural resources management    250\n",
      "Human development                               218\n",
      "Rural development                               215\n",
      "Public sector governance                        198\n",
      "Social protection and risk management           177\n",
      "Financial and private sector development        142\n",
      "Social dev/gender/inclusion                     126\n",
      "Trade and integration                            78\n",
      "Urban development                                49\n",
      "Economic management                              34\n",
      "Name: name, dtype: int64\n",
      "\n",
      "Top 10 Code and Count:\n",
      "11    250\n",
      "10    216\n",
      "8     210\n",
      "2     199\n",
      "6     168\n",
      "4     146\n",
      "7     130\n",
      "5      77\n",
      "9      50\n",
      "1      38\n",
      "Name: code, dtype: int64\n"
     ]
    }
   ],
   "source": [
    "#here we can see that there are names missing, so we have to find the top 10 using the code and then find the names\n",
    "#heres what the order would be if we counted names\n",
    "print('\\nTop 10 Name and Count (without names filled):')\n",
    "print(wb_df.name.value_counts().head(10))\n",
    "# Then store the count of each project code and find the top 10\n",
    "print('\\nTop 10 Code and Count:')\n",
    "print(wb_df.code.value_counts().head(10))"
   ]
  },
  {
   "cell_type": "code",
   "execution_count": 116,
   "metadata": {},
   "outputs": [
    {
     "name": "stdout",
     "output_type": "stream",
     "text": [
      "  code                                   name\n",
      "0    8                      Human development\n",
      "1   11                    Economic management\n",
      "2    1                    Economic management\n",
      "3    6  Social protection and risk management\n",
      "4    5                  Trade and integration\n",
      "\n",
      "Top 10 Name and Count (without names filled):\n",
      "Environment and natural resources management    250\n",
      "Human development                               218\n",
      "Rural development                               215\n",
      "Public sector governance                        198\n",
      "Social protection and risk management           177\n",
      "Financial and private sector development        142\n",
      "Social dev/gender/inclusion                     126\n",
      "Trade and integration                            78\n",
      "Urban development                                49\n",
      "Economic management                              34\n",
      "Name: name, dtype: int64\n",
      "DataFrame with names filled in:\n"
     ]
    },
    {
     "data": {
      "text/html": [
       "<div>\n",
       "<style scoped>\n",
       "    .dataframe tbody tr th:only-of-type {\n",
       "        vertical-align: middle;\n",
       "    }\n",
       "\n",
       "    .dataframe tbody tr th {\n",
       "        vertical-align: top;\n",
       "    }\n",
       "\n",
       "    .dataframe thead th {\n",
       "        text-align: right;\n",
       "    }\n",
       "</style>\n",
       "<table border=\"1\" class=\"dataframe\">\n",
       "  <thead>\n",
       "    <tr style=\"text-align: right;\">\n",
       "      <th></th>\n",
       "      <th>code</th>\n",
       "      <th>name</th>\n",
       "    </tr>\n",
       "  </thead>\n",
       "  <tbody>\n",
       "    <tr>\n",
       "      <th>0</th>\n",
       "      <td>8</td>\n",
       "      <td>Human development</td>\n",
       "    </tr>\n",
       "    <tr>\n",
       "      <th>1</th>\n",
       "      <td>11</td>\n",
       "      <td>Economic management</td>\n",
       "    </tr>\n",
       "    <tr>\n",
       "      <th>2</th>\n",
       "      <td>1</td>\n",
       "      <td>Economic management</td>\n",
       "    </tr>\n",
       "    <tr>\n",
       "      <th>3</th>\n",
       "      <td>6</td>\n",
       "      <td>Social protection and risk management</td>\n",
       "    </tr>\n",
       "    <tr>\n",
       "      <th>4</th>\n",
       "      <td>5</td>\n",
       "      <td>Trade and integration</td>\n",
       "    </tr>\n",
       "  </tbody>\n",
       "</table>\n",
       "</div>"
      ],
      "text/plain": [
       "  code                                   name\n",
       "0    8                      Human development\n",
       "1   11                    Economic management\n",
       "2    1                    Economic management\n",
       "3    6  Social protection and risk management\n",
       "4    5                  Trade and integration"
      ]
     },
     "execution_count": 116,
     "metadata": {},
     "output_type": "execute_result"
    }
   ],
   "source": [
    "#3. In 2. above you will notice that some entries have only the code and the name is missing.\n",
    "#Create a dataframe with the missing names filled in.\n",
    "\n",
    "#fill the empty strings with\n",
    "wb_df.name[wb_df['name'] == ''] = np.nan\n",
    "\n",
    "# Backfill NaN values, then inspect\n",
    "wb_df = wb_df.fillna(method='bfill')\n",
    "print(wb_df.head(5))\n",
    "\n",
    "#then print out the updated count with names filled in\n",
    "print('\\nTop 10 Name and Count (without names filled):')\n",
    "print(wb_df.name.value_counts().head(10))\n",
    "\n",
    "print('DataFrame with names filled in:')\n",
    "wb_df.head(5)"
   ]
  },
  {
   "cell_type": "code",
   "execution_count": null,
   "metadata": {},
   "outputs": [],
   "source": []
  }
 ],
 "metadata": {
  "kernelspec": {
   "display_name": "Python 3",
   "language": "python",
   "name": "python3"
  },
  "language_info": {
   "codemirror_mode": {
    "name": "ipython",
    "version": 3
   },
   "file_extension": ".py",
   "mimetype": "text/x-python",
   "name": "python",
   "nbconvert_exporter": "python",
   "pygments_lexer": "ipython3",
   "version": "3.7.3"
  }
 },
 "nbformat": 4,
 "nbformat_minor": 2
}
