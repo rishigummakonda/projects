{
 "cells": [
  {
   "cell_type": "code",
   "execution_count": 5,
   "metadata": {},
   "outputs": [],
   "source": [
    "import pandas as pd\n",
    "import numpy as np\n",
    "\n",
    "pathname='/Users/rishigummakonda/Documents/Springboard/capstone/data/census_tract/from_atlas/'\n",
    "nyc = pd.read_csv(pathname+'nyc_tracts.csv')\n",
    "la = pd.read_csv(pathname+'la_tracts.csv')\n",
    "den = pd.read_csv(pathname+'denver_tracts.csv')\n",
    "nash=pd.read_csv(pathname+'nashville_tracts.csv')\n",
    "atlas = pd.read_csv('/Users/rishigummakonda/Documents/Springboard/capstone/data/atlas_data/atlas.csv')"
   ]
  },
  {
   "cell_type": "code",
   "execution_count": 6,
   "metadata": {},
   "outputs": [],
   "source": [
    "%matplotlib inline \n",
    "\n",
    "import numpy as np\n",
    "import pandas as pd\n",
    "import scipy.stats as stats\n",
    "import matplotlib.pyplot as plt\n",
    "import sklearn\n",
    "from sklearn import metrics\n",
    "import seaborn as sns\n",
    "from statsmodels.graphics.regressionplots import *\n",
    "import statsmodels.api as sm\n",
    "from statsmodels.formula.api import ols\n",
    "\n",
    "# special matplotlib argument for improved plots\n",
    "from matplotlib import rcParams\n",
    "sns.set_style(\"whitegrid\")\n",
    "sns.set_context(\"paper\")\n",
    "%matplotlib inline"
   ]
  },
  {
   "cell_type": "code",
   "execution_count": 7,
   "metadata": {},
   "outputs": [],
   "source": [
    "from sklearn.linear_model import LinearRegression as lr\n",
    "from sklearn.metrics import mean_squared_error as mse\n",
    "from sklearn.model_selection import train_test_split as tts"
   ]
  },
  {
   "cell_type": "markdown",
   "metadata": {},
   "source": [
    "The codes in the 'tract' column within each dataset contain the state code, county, and tract code. The function below splits it up and creates a new dataframe. "
   ]
  },
  {
   "cell_type": "code",
   "execution_count": 8,
   "metadata": {},
   "outputs": [],
   "source": [
    "def split_codes(full_codes):\n",
    "    state_codes=[]\n",
    "    county_codes=[]\n",
    "    tract_codes=[]\n",
    "    for code in full_codes:\n",
    "        code=str(code)\n",
    "        state=int(code[:2])\n",
    "        county=int(code[2:5])\n",
    "        tract=int(code[5:11])\n",
    "        state_codes.append(state)\n",
    "        county_codes.append(county)\n",
    "        tract_codes.append(tract)\n",
    "    dict_codes = {'full_codes': full_codes, 'state':state_codes, 'county': county_codes, 'tract': tract_codes}\n",
    "    df= pd.DataFrame(dict_codes)\n",
    "    return df"
   ]
  },
  {
   "cell_type": "markdown",
   "metadata": {},
   "source": [
    "The function below filters through the atlas dataset, finding the relevant tracts."
   ]
  },
  {
   "cell_type": "code",
   "execution_count": 9,
   "metadata": {},
   "outputs": [],
   "source": [
    "def filter_atlas(city_df):\n",
    "    list_of_tracts=[]\n",
    "    for index, row in city_df.iterrows():\n",
    "        state_f = atlas[atlas['state'] == row['state']]\n",
    "        county_f = state_f[state_f['county'] == row['county']]\n",
    "        tract = county_f[county_f['tract'] == row['tract']] \n",
    "        list_of_tracts.append(tract)\n",
    "    df = pd.concat(list_of_tracts,ignore_index=True)\n",
    "    return df"
   ]
  },
  {
   "cell_type": "markdown",
   "metadata": {},
   "source": [
    "Each dataset contains tracts which are not within the city lines. The next few code blocks are filtering those cities out and then splitting the codes up into state, county and tracts."
   ]
  },
  {
   "cell_type": "code",
   "execution_count": 10,
   "metadata": {},
   "outputs": [
    {
     "data": {
      "text/plain": [
       "(1291, 4)"
      ]
     },
     "execution_count": 10,
     "metadata": {},
     "output_type": "execute_result"
    }
   ],
   "source": [
    "nyc_names =nyc[\"Name\"]\n",
    "new_nyc = nyc[nyc_names.str.contains(\"New York\") | nyc_names.str.contains(\"Queens\") \n",
    "              | nyc_names.str.contains(\"Bronx County\")]\n",
    "nyc_tracts = split_codes(list(new_nyc['tract']))\n",
    "nyc_tracts.shape\n"
   ]
  },
  {
   "cell_type": "code",
   "execution_count": 11,
   "metadata": {},
   "outputs": [
    {
     "data": {
      "text/plain": [
       "(1046, 4)"
      ]
     },
     "execution_count": 11,
     "metadata": {},
     "output_type": "execute_result"
    }
   ],
   "source": [
    "la_names =la[\"Name\"]\n",
    "new_la = la[la_names.str.contains(\"Los Angeles\")]\n",
    "la_codes = list(new_la['tract'])\n",
    "la_tracts=split_codes(la_codes)\n",
    "la_tracts.shape"
   ]
  },
  {
   "cell_type": "code",
   "execution_count": 12,
   "metadata": {},
   "outputs": [
    {
     "data": {
      "text/plain": [
       "(168, 4)"
      ]
     },
     "execution_count": 12,
     "metadata": {},
     "output_type": "execute_result"
    }
   ],
   "source": [
    "den_names =den[\"Name\"]\n",
    "new_den = den[den_names.str.contains(\"Denver\")]\n",
    "denver_codes=list(new_den['tract'])\n",
    "denver_tracts=split_codes(denver_codes)\n",
    "denver_tracts.shape"
   ]
  },
  {
   "cell_type": "code",
   "execution_count": 13,
   "metadata": {},
   "outputs": [
    {
     "data": {
      "text/plain": [
       "(154, 4)"
      ]
     },
     "execution_count": 13,
     "metadata": {},
     "output_type": "execute_result"
    }
   ],
   "source": [
    "nash_names =nash[\"Name\"]\n",
    "new_nash = nash[nash_names.str.contains(\"Nashville\")]\n",
    "nashville_codes=list(new_nash['tract'])\n",
    "nashville_tracts=split_codes(nashville_codes)\n",
    "nashville_tracts.shape"
   ]
  },
  {
   "cell_type": "code",
   "execution_count": 14,
   "metadata": {
    "scrolled": true
   },
   "outputs": [
    {
     "data": {
      "text/plain": [
       "(2659, 4)"
      ]
     },
     "execution_count": 14,
     "metadata": {},
     "output_type": "execute_result"
    }
   ],
   "source": [
    "all_tracts_df = pd.concat([nyc_tracts,la_tracts,denver_tracts,nashville_tracts], ignore_index=True)\n",
    "all_tracts_df.shape"
   ]
  },
  {
   "cell_type": "markdown",
   "metadata": {},
   "source": [
    "This creates new datasets from the atlas dataset."
   ]
  },
  {
   "cell_type": "code",
   "execution_count": 15,
   "metadata": {},
   "outputs": [],
   "source": [
    "nyc_atlas= filter_atlas(nyc_tracts)\n",
    "la_atlas=filter_atlas(la_tracts)\n",
    "den_atlas=filter_atlas(denver_tracts)\n",
    "nash_atlas=filter_atlas(nashville_tracts)"
   ]
  },
  {
   "cell_type": "code",
   "execution_count": 52,
   "metadata": {},
   "outputs": [
    {
     "data": {
      "text/html": [
       "<div>\n",
       "<style scoped>\n",
       "    .dataframe tbody tr th:only-of-type {\n",
       "        vertical-align: middle;\n",
       "    }\n",
       "\n",
       "    .dataframe tbody tr th {\n",
       "        vertical-align: top;\n",
       "    }\n",
       "\n",
       "    .dataframe thead th {\n",
       "        text-align: right;\n",
       "    }\n",
       "</style>\n",
       "<table border=\"1\" class=\"dataframe\">\n",
       "  <thead>\n",
       "    <tr style=\"text-align: right;\">\n",
       "      <th></th>\n",
       "      <th>tract</th>\n",
       "      <th>county</th>\n",
       "      <th>state</th>\n",
       "      <th>cz</th>\n",
       "      <th>czname</th>\n",
       "      <th>hhinc_mean2000</th>\n",
       "      <th>mean_commutetime2000</th>\n",
       "      <th>frac_coll_plus2010</th>\n",
       "      <th>frac_coll_plus2000</th>\n",
       "      <th>foreign_share2010</th>\n",
       "      <th>...</th>\n",
       "      <th>kfr_white_p25</th>\n",
       "      <th>kfr_white_p75</th>\n",
       "      <th>kfr_white_p100</th>\n",
       "      <th>count_pooled</th>\n",
       "      <th>count_white</th>\n",
       "      <th>count_black</th>\n",
       "      <th>count_asian</th>\n",
       "      <th>count_hisp</th>\n",
       "      <th>count_natam</th>\n",
       "      <th>mergecounts</th>\n",
       "    </tr>\n",
       "  </thead>\n",
       "  <tbody>\n",
       "  </tbody>\n",
       "</table>\n",
       "<p>0 rows × 63 columns</p>\n",
       "</div>"
      ],
      "text/plain": [
       "Empty DataFrame\n",
       "Columns: [tract, county, state, cz, czname, hhinc_mean2000, mean_commutetime2000, frac_coll_plus2010, frac_coll_plus2000, foreign_share2010, med_hhinc2016, med_hhinc1990, popdensity2000, poor_share2010, poor_share2000, poor_share1990, share_black2010, share_hisp2010, share_asian2010, share_black2000, share_white2000, share_hisp2000, share_asian2000, gsmn_math_g3_2013, rent_twobed2015, singleparent_share2010, singleparent_share1990, singleparent_share2000, traveltime15_2010, emp2000, mail_return_rate2010, ln_wage_growth_hs_grad, jobs_total_5mi_2015, jobs_highpay_5mi_2015, nonwhite_share2010, popdensity2010, ann_avg_job_growth_2004_2013, job_density_2013, kfr_natam_p25, kfr_natam_p75, kfr_natam_p100, kfr_asian_p25, kfr_asian_p75, kfr_asian_p100, kfr_black_p25, kfr_black_p75, kfr_black_p100, kfr_hisp_p25, kfr_hisp_p75, kfr_hisp_p100, kfr_pooled_p25, kfr_pooled_p75, kfr_pooled_p100, kfr_white_p25, kfr_white_p75, kfr_white_p100, count_pooled, count_white, count_black, count_asian, count_hisp, count_natam, mergecounts]\n",
       "Index: []\n",
       "\n",
       "[0 rows x 63 columns]"
      ]
     },
     "execution_count": 52,
     "metadata": {},
     "output_type": "execute_result"
    }
   ],
   "source": [
    "la_atlas.head()"
   ]
  },
  {
   "cell_type": "markdown",
   "metadata": {},
   "source": [
    "Testing with NYC data: Do a train/test split, fit it to a linear regression model, then do one with k-fold cross validation and get the scores. then do a heatmap"
   ]
  },
  {
   "cell_type": "code",
   "execution_count": 49,
   "metadata": {},
   "outputs": [],
   "source": [
    "cleaned_nyc = nyc_atlas.drop(['tract','county','state','cz','czname','mergecounts', \n",
    "                              'kfr_natam_p25', 'kfr_natam_p75','kfr_natam_p100','count_natam'],axis =1)\n",
    "cleaned_nyc.fillna(0, inplace=True)"
   ]
  },
  {
   "cell_type": "code",
   "execution_count": 50,
   "metadata": {},
   "outputs": [],
   "source": [
    "y= cleaned_nyc['kfr_pooled_p25']\n",
    "X= cleaned_nyc.drop(['kfr_pooled_p25'],axis=1)"
   ]
  },
  {
   "cell_type": "code",
   "execution_count": 51,
   "metadata": {},
   "outputs": [
    {
     "name": "stdout",
     "output_type": "stream",
     "text": [
      "R^2: 0.951756619589142\n",
      "Root Mean Squared Error: 2255.466599798517\n"
     ]
    }
   ],
   "source": [
    "# Create training and test sets\n",
    "X_train, X_test, y_train, y_test = tts(X, y, test_size = .3, random_state=42)\n",
    "\n",
    "# Create the regressor: reg_all\n",
    "reg_all = lr()\n",
    "\n",
    "# Fit the regressor to the training data\n",
    "reg_all.fit(X_train,y_train)\n",
    "\n",
    "# Predict on the test data: y_pred\n",
    "y_pred = reg_all.predict(X_test)\n",
    "\n",
    "# Compute and print R^2 and RMSE\n",
    "print(\"R^2: {}\".format(reg_all.score(X_test, y_test)))\n",
    "rmse = np.sqrt(mse(y_test,y_pred))\n",
    "print(\"Root Mean Squared Error: {}\".format(rmse))"
   ]
  },
  {
   "cell_type": "code",
   "execution_count": 20,
   "metadata": {},
   "outputs": [],
   "source": [
    "heatmap_data_nyc = nyc_atlas.drop(['tract','county','state','cz','czname','mergecounts', \n",
    "                                   'kfr_natam_p25', 'kfr_natam_p75','kfr_natam_p100','count_natam',],axis =1)\n"
   ]
  },
  {
   "cell_type": "code",
   "execution_count": 21,
   "metadata": {
    "scrolled": false
   },
   "outputs": [
    {
     "data": {
      "text/plain": [
       "<matplotlib.axes._subplots.AxesSubplot at 0x10f5b9c10>"
      ]
     },
     "execution_count": 21,
     "metadata": {},
     "output_type": "execute_result"
    },
    {
     "data": {
      "image/png": "[encoded data removed]",
      "text/plain": [
       "<Figure size 1296x2160 with 2 Axes>"
      ]
     },
     "metadata": {
      "needs_background": "light"
     },
     "output_type": "display_data"
    }
   ],
   "source": [
    "plt.figure(figsize=(18,30))\n",
    "sns.heatmap(heatmap_data_nyc.corr()[['kfr_pooled_p25','kfr_pooled_p75','kfr_pooled_p100']], annot=True, cmap=\"YlGnBu\")"
   ]
  },
  {
   "cell_type": "code",
   "execution_count": 22,
   "metadata": {},
   "outputs": [],
   "source": [
    "def weighted_avg(city_df, col_name):    \n",
    "    city_df.fillna(0,inplace=True)\n",
    "    running_total =0\n",
    "    for index, row in city_df.iterrows():\n",
    "        weight = row[col_name]*row['count_pooled']\n",
    "        running_total+=weight\n",
    "    weighted_avg= running_total/sum(city_df['count_pooled'])\n",
    "    return weighted_avg"
   ]
  },
  {
   "cell_type": "code",
   "execution_count": 23,
   "metadata": {},
   "outputs": [
    {
     "data": {
      "text/plain": [
       "35175.238344771635"
      ]
     },
     "execution_count": 23,
     "metadata": {},
     "output_type": "execute_result"
    }
   ],
   "source": [
    "weighted_avg(nyc_atlas,'kfr_pooled_p25')"
   ]
  },
  {
   "cell_type": "code",
   "execution_count": 24,
   "metadata": {},
   "outputs": [],
   "source": [
    "def find_state(state_code):\n",
    "    atlas.dropna()\n",
    "    return atlas[atlas['state']==state_code]"
   ]
  },
  {
   "cell_type": "code",
   "execution_count": 25,
   "metadata": {},
   "outputs": [
    {
     "data": {
      "text/html": [
       "<div>\n",
       "<style scoped>\n",
       "    .dataframe tbody tr th:only-of-type {\n",
       "        vertical-align: middle;\n",
       "    }\n",
       "\n",
       "    .dataframe tbody tr th {\n",
       "        vertical-align: top;\n",
       "    }\n",
       "\n",
       "    .dataframe thead th {\n",
       "        text-align: right;\n",
       "    }\n",
       "</style>\n",
       "<table border=\"1\" class=\"dataframe\">\n",
       "  <thead>\n",
       "    <tr style=\"text-align: right;\">\n",
       "      <th></th>\n",
       "      <th>tract</th>\n",
       "      <th>county</th>\n",
       "      <th>state</th>\n",
       "      <th>cz</th>\n",
       "      <th>czname</th>\n",
       "      <th>hhinc_mean2000</th>\n",
       "      <th>mean_commutetime2000</th>\n",
       "      <th>frac_coll_plus2010</th>\n",
       "      <th>frac_coll_plus2000</th>\n",
       "      <th>foreign_share2010</th>\n",
       "      <th>...</th>\n",
       "      <th>kfr_white_p25</th>\n",
       "      <th>kfr_white_p75</th>\n",
       "      <th>kfr_white_p100</th>\n",
       "      <th>count_pooled</th>\n",
       "      <th>count_white</th>\n",
       "      <th>count_black</th>\n",
       "      <th>count_asian</th>\n",
       "      <th>count_hisp</th>\n",
       "      <th>count_natam</th>\n",
       "      <th>mergecounts</th>\n",
       "    </tr>\n",
       "  </thead>\n",
       "  <tbody>\n",
       "    <tr>\n",
       "      <th>42874</th>\n",
       "      <td>100</td>\n",
       "      <td>1</td>\n",
       "      <td>36</td>\n",
       "      <td>18600.0</td>\n",
       "      <td>Albany</td>\n",
       "      <td>50391.891</td>\n",
       "      <td>19.435076</td>\n",
       "      <td>0.093633</td>\n",
       "      <td>0.115219</td>\n",
       "      <td>0.136915</td>\n",
       "      <td>...</td>\n",
       "      <td>27379.680</td>\n",
       "      <td>38937.078</td>\n",
       "      <td>50294.129</td>\n",
       "      <td>498.0</td>\n",
       "      <td>109.0</td>\n",
       "      <td>308.0</td>\n",
       "      <td>12.0</td>\n",
       "      <td>39.0</td>\n",
       "      <td>0.0</td>\n",
       "      <td>matched (3)</td>\n",
       "    </tr>\n",
       "    <tr>\n",
       "      <th>42875</th>\n",
       "      <td>200</td>\n",
       "      <td>1</td>\n",
       "      <td>36</td>\n",
       "      <td>18600.0</td>\n",
       "      <td>Albany</td>\n",
       "      <td>40015.555</td>\n",
       "      <td>23.676914</td>\n",
       "      <td>0.147101</td>\n",
       "      <td>0.126274</td>\n",
       "      <td>0.098438</td>\n",
       "      <td>...</td>\n",
       "      <td>34357.434</td>\n",
       "      <td>59064.988</td>\n",
       "      <td>89893.820</td>\n",
       "      <td>1900.0</td>\n",
       "      <td>48.0</td>\n",
       "      <td>1540.0</td>\n",
       "      <td>31.0</td>\n",
       "      <td>203.0</td>\n",
       "      <td>1.0</td>\n",
       "      <td>matched (3)</td>\n",
       "    </tr>\n",
       "    <tr>\n",
       "      <th>42876</th>\n",
       "      <td>300</td>\n",
       "      <td>1</td>\n",
       "      <td>36</td>\n",
       "      <td>18600.0</td>\n",
       "      <td>Albany</td>\n",
       "      <td>63757.352</td>\n",
       "      <td>20.868145</td>\n",
       "      <td>0.215100</td>\n",
       "      <td>0.182538</td>\n",
       "      <td>0.078504</td>\n",
       "      <td>...</td>\n",
       "      <td>32514.145</td>\n",
       "      <td>50474.898</td>\n",
       "      <td>70966.219</td>\n",
       "      <td>1445.0</td>\n",
       "      <td>451.0</td>\n",
       "      <td>737.0</td>\n",
       "      <td>38.0</td>\n",
       "      <td>141.0</td>\n",
       "      <td>3.0</td>\n",
       "      <td>matched (3)</td>\n",
       "    </tr>\n",
       "    <tr>\n",
       "      <th>42877</th>\n",
       "      <td>401</td>\n",
       "      <td>1</td>\n",
       "      <td>36</td>\n",
       "      <td>18600.0</td>\n",
       "      <td>Albany</td>\n",
       "      <td>85420.609</td>\n",
       "      <td>21.597206</td>\n",
       "      <td>0.430931</td>\n",
       "      <td>0.371955</td>\n",
       "      <td>0.097241</td>\n",
       "      <td>...</td>\n",
       "      <td>28199.760</td>\n",
       "      <td>56112.887</td>\n",
       "      <td>93340.719</td>\n",
       "      <td>191.0</td>\n",
       "      <td>124.0</td>\n",
       "      <td>33.0</td>\n",
       "      <td>10.0</td>\n",
       "      <td>19.0</td>\n",
       "      <td>0.0</td>\n",
       "      <td>matched (3)</td>\n",
       "    </tr>\n",
       "    <tr>\n",
       "      <th>42878</th>\n",
       "      <td>403</td>\n",
       "      <td>1</td>\n",
       "      <td>36</td>\n",
       "      <td>18600.0</td>\n",
       "      <td>Albany</td>\n",
       "      <td>74094.234</td>\n",
       "      <td>18.898617</td>\n",
       "      <td>0.601896</td>\n",
       "      <td>0.498365</td>\n",
       "      <td>0.209118</td>\n",
       "      <td>...</td>\n",
       "      <td>55511.813</td>\n",
       "      <td>63248.313</td>\n",
       "      <td>70438.281</td>\n",
       "      <td>685.0</td>\n",
       "      <td>504.0</td>\n",
       "      <td>89.0</td>\n",
       "      <td>23.0</td>\n",
       "      <td>30.0</td>\n",
       "      <td>1.0</td>\n",
       "      <td>matched (3)</td>\n",
       "    </tr>\n",
       "    <tr>\n",
       "      <th>...</th>\n",
       "      <td>...</td>\n",
       "      <td>...</td>\n",
       "      <td>...</td>\n",
       "      <td>...</td>\n",
       "      <td>...</td>\n",
       "      <td>...</td>\n",
       "      <td>...</td>\n",
       "      <td>...</td>\n",
       "      <td>...</td>\n",
       "      <td>...</td>\n",
       "      <td>...</td>\n",
       "      <td>...</td>\n",
       "      <td>...</td>\n",
       "      <td>...</td>\n",
       "      <td>...</td>\n",
       "      <td>...</td>\n",
       "      <td>...</td>\n",
       "      <td>...</td>\n",
       "      <td>...</td>\n",
       "      <td>...</td>\n",
       "      <td>...</td>\n",
       "    </tr>\n",
       "    <tr>\n",
       "      <th>47728</th>\n",
       "      <td>150100</td>\n",
       "      <td>123</td>\n",
       "      <td>36</td>\n",
       "      <td>18000.0</td>\n",
       "      <td>Buffalo</td>\n",
       "      <td>60764.992</td>\n",
       "      <td>24.871489</td>\n",
       "      <td>0.211260</td>\n",
       "      <td>0.168255</td>\n",
       "      <td>0.020542</td>\n",
       "      <td>...</td>\n",
       "      <td>39115.852</td>\n",
       "      <td>54060.406</td>\n",
       "      <td>70198.375</td>\n",
       "      <td>1680.0</td>\n",
       "      <td>1608.0</td>\n",
       "      <td>17.0</td>\n",
       "      <td>10.0</td>\n",
       "      <td>24.0</td>\n",
       "      <td>1.0</td>\n",
       "      <td>matched (3)</td>\n",
       "    </tr>\n",
       "    <tr>\n",
       "      <th>47729</th>\n",
       "      <td>150200</td>\n",
       "      <td>123</td>\n",
       "      <td>36</td>\n",
       "      <td>18000.0</td>\n",
       "      <td>Buffalo</td>\n",
       "      <td>57921.156</td>\n",
       "      <td>22.217421</td>\n",
       "      <td>0.164481</td>\n",
       "      <td>0.139244</td>\n",
       "      <td>0.009833</td>\n",
       "      <td>...</td>\n",
       "      <td>37833.730</td>\n",
       "      <td>54783.840</td>\n",
       "      <td>73647.047</td>\n",
       "      <td>1481.0</td>\n",
       "      <td>1427.0</td>\n",
       "      <td>3.0</td>\n",
       "      <td>7.0</td>\n",
       "      <td>12.0</td>\n",
       "      <td>4.0</td>\n",
       "      <td>matched (3)</td>\n",
       "    </tr>\n",
       "    <tr>\n",
       "      <th>47730</th>\n",
       "      <td>150300</td>\n",
       "      <td>123</td>\n",
       "      <td>36</td>\n",
       "      <td>18000.0</td>\n",
       "      <td>Buffalo</td>\n",
       "      <td>67415.531</td>\n",
       "      <td>31.940084</td>\n",
       "      <td>0.175843</td>\n",
       "      <td>0.174154</td>\n",
       "      <td>0.027891</td>\n",
       "      <td>...</td>\n",
       "      <td>35326.188</td>\n",
       "      <td>52847.328</td>\n",
       "      <td>72643.563</td>\n",
       "      <td>1436.0</td>\n",
       "      <td>1394.0</td>\n",
       "      <td>7.0</td>\n",
       "      <td>3.0</td>\n",
       "      <td>14.0</td>\n",
       "      <td>2.0</td>\n",
       "      <td>matched (3)</td>\n",
       "    </tr>\n",
       "    <tr>\n",
       "      <th>47731</th>\n",
       "      <td>150400</td>\n",
       "      <td>123</td>\n",
       "      <td>36</td>\n",
       "      <td>18000.0</td>\n",
       "      <td>Buffalo</td>\n",
       "      <td>71483.492</td>\n",
       "      <td>20.090122</td>\n",
       "      <td>0.340824</td>\n",
       "      <td>0.285352</td>\n",
       "      <td>0.020073</td>\n",
       "      <td>...</td>\n",
       "      <td>36837.418</td>\n",
       "      <td>53671.594</td>\n",
       "      <td>72437.492</td>\n",
       "      <td>775.0</td>\n",
       "      <td>757.0</td>\n",
       "      <td>2.0</td>\n",
       "      <td>4.0</td>\n",
       "      <td>4.0</td>\n",
       "      <td>1.0</td>\n",
       "      <td>matched (3)</td>\n",
       "    </tr>\n",
       "    <tr>\n",
       "      <th>47732</th>\n",
       "      <td>150500</td>\n",
       "      <td>123</td>\n",
       "      <td>36</td>\n",
       "      <td>18000.0</td>\n",
       "      <td>Buffalo</td>\n",
       "      <td>62845.555</td>\n",
       "      <td>25.550209</td>\n",
       "      <td>0.271031</td>\n",
       "      <td>0.174981</td>\n",
       "      <td>0.014741</td>\n",
       "      <td>...</td>\n",
       "      <td>34471.441</td>\n",
       "      <td>52893.621</td>\n",
       "      <td>74011.578</td>\n",
       "      <td>1196.0</td>\n",
       "      <td>1169.0</td>\n",
       "      <td>3.0</td>\n",
       "      <td>0.0</td>\n",
       "      <td>11.0</td>\n",
       "      <td>1.0</td>\n",
       "      <td>matched (3)</td>\n",
       "    </tr>\n",
       "  </tbody>\n",
       "</table>\n",
       "<p>4859 rows × 63 columns</p>\n",
       "</div>"
      ],
      "text/plain": [
       "        tract  county  state       cz   czname  hhinc_mean2000  \\\n",
       "42874     100       1     36  18600.0   Albany       50391.891   \n",
       "42875     200       1     36  18600.0   Albany       40015.555   \n",
       "42876     300       1     36  18600.0   Albany       63757.352   \n",
       "42877     401       1     36  18600.0   Albany       85420.609   \n",
       "42878     403       1     36  18600.0   Albany       74094.234   \n",
       "...       ...     ...    ...      ...      ...             ...   \n",
       "47728  150100     123     36  18000.0  Buffalo       60764.992   \n",
       "47729  150200     123     36  18000.0  Buffalo       57921.156   \n",
       "47730  150300     123     36  18000.0  Buffalo       67415.531   \n",
       "47731  150400     123     36  18000.0  Buffalo       71483.492   \n",
       "47732  150500     123     36  18000.0  Buffalo       62845.555   \n",
       "\n",
       "       mean_commutetime2000  frac_coll_plus2010  frac_coll_plus2000  \\\n",
       "42874             19.435076            0.093633            0.115219   \n",
       "42875             23.676914            0.147101            0.126274   \n",
       "42876             20.868145            0.215100            0.182538   \n",
       "42877             21.597206            0.430931            0.371955   \n",
       "42878             18.898617            0.601896            0.498365   \n",
       "...                     ...                 ...                 ...   \n",
       "47728             24.871489            0.211260            0.168255   \n",
       "47729             22.217421            0.164481            0.139244   \n",
       "47730             31.940084            0.175843            0.174154   \n",
       "47731             20.090122            0.340824            0.285352   \n",
       "47732             25.550209            0.271031            0.174981   \n",
       "\n",
       "       foreign_share2010  ...  kfr_white_p25  kfr_white_p75  kfr_white_p100  \\\n",
       "42874           0.136915  ...      27379.680      38937.078       50294.129   \n",
       "42875           0.098438  ...      34357.434      59064.988       89893.820   \n",
       "42876           0.078504  ...      32514.145      50474.898       70966.219   \n",
       "42877           0.097241  ...      28199.760      56112.887       93340.719   \n",
       "42878           0.209118  ...      55511.813      63248.313       70438.281   \n",
       "...                  ...  ...            ...            ...             ...   \n",
       "47728           0.020542  ...      39115.852      54060.406       70198.375   \n",
       "47729           0.009833  ...      37833.730      54783.840       73647.047   \n",
       "47730           0.027891  ...      35326.188      52847.328       72643.563   \n",
       "47731           0.020073  ...      36837.418      53671.594       72437.492   \n",
       "47732           0.014741  ...      34471.441      52893.621       74011.578   \n",
       "\n",
       "       count_pooled  count_white  count_black  count_asian  count_hisp  \\\n",
       "42874         498.0        109.0        308.0         12.0        39.0   \n",
       "42875        1900.0         48.0       1540.0         31.0       203.0   \n",
       "42876        1445.0        451.0        737.0         38.0       141.0   \n",
       "42877         191.0        124.0         33.0         10.0        19.0   \n",
       "42878         685.0        504.0         89.0         23.0        30.0   \n",
       "...             ...          ...          ...          ...         ...   \n",
       "47728        1680.0       1608.0         17.0         10.0        24.0   \n",
       "47729        1481.0       1427.0          3.0          7.0        12.0   \n",
       "47730        1436.0       1394.0          7.0          3.0        14.0   \n",
       "47731         775.0        757.0          2.0          4.0         4.0   \n",
       "47732        1196.0       1169.0          3.0          0.0        11.0   \n",
       "\n",
       "       count_natam  mergecounts  \n",
       "42874          0.0  matched (3)  \n",
       "42875          1.0  matched (3)  \n",
       "42876          3.0  matched (3)  \n",
       "42877          0.0  matched (3)  \n",
       "42878          1.0  matched (3)  \n",
       "...            ...          ...  \n",
       "47728          1.0  matched (3)  \n",
       "47729          4.0  matched (3)  \n",
       "47730          2.0  matched (3)  \n",
       "47731          1.0  matched (3)  \n",
       "47732          1.0  matched (3)  \n",
       "\n",
       "[4859 rows x 63 columns]"
      ]
     },
     "execution_count": 25,
     "metadata": {},
     "output_type": "execute_result"
    }
   ],
   "source": [
    "find_state(36)"
   ]
  },
  {
   "cell_type": "code",
   "execution_count": 26,
   "metadata": {},
   "outputs": [],
   "source": [
    "def find_county(state_code,county_code):\n",
    "    atlas.fillna(0,inplace=True)\n",
    "    state = atlas[atlas['state']== state_code]\n",
    "    return state[state['county'] == county_code]"
   ]
  },
  {
   "cell_type": "code",
   "execution_count": 27,
   "metadata": {},
   "outputs": [
    {
     "data": {
      "text/html": [
       "<div>\n",
       "<style scoped>\n",
       "    .dataframe tbody tr th:only-of-type {\n",
       "        vertical-align: middle;\n",
       "    }\n",
       "\n",
       "    .dataframe tbody tr th {\n",
       "        vertical-align: top;\n",
       "    }\n",
       "\n",
       "    .dataframe thead th {\n",
       "        text-align: right;\n",
       "    }\n",
       "</style>\n",
       "<table border=\"1\" class=\"dataframe\">\n",
       "  <thead>\n",
       "    <tr style=\"text-align: right;\">\n",
       "      <th></th>\n",
       "      <th>tract</th>\n",
       "      <th>county</th>\n",
       "      <th>state</th>\n",
       "      <th>cz</th>\n",
       "      <th>czname</th>\n",
       "      <th>hhinc_mean2000</th>\n",
       "      <th>mean_commutetime2000</th>\n",
       "      <th>frac_coll_plus2010</th>\n",
       "      <th>frac_coll_plus2000</th>\n",
       "      <th>foreign_share2010</th>\n",
       "      <th>...</th>\n",
       "      <th>kfr_white_p25</th>\n",
       "      <th>kfr_white_p75</th>\n",
       "      <th>kfr_white_p100</th>\n",
       "      <th>count_pooled</th>\n",
       "      <th>count_white</th>\n",
       "      <th>count_black</th>\n",
       "      <th>count_asian</th>\n",
       "      <th>count_hisp</th>\n",
       "      <th>count_natam</th>\n",
       "      <th>mergecounts</th>\n",
       "    </tr>\n",
       "  </thead>\n",
       "  <tbody>\n",
       "    <tr>\n",
       "      <th>45230</th>\n",
       "      <td>201</td>\n",
       "      <td>61</td>\n",
       "      <td>36</td>\n",
       "      <td>19400.0</td>\n",
       "      <td>New York</td>\n",
       "      <td>43571.824</td>\n",
       "      <td>37.127106</td>\n",
       "      <td>0.158639</td>\n",
       "      <td>0.138534</td>\n",
       "      <td>0.454364</td>\n",
       "      <td>...</td>\n",
       "      <td>0.000</td>\n",
       "      <td>0.000</td>\n",
       "      <td>0.000</td>\n",
       "      <td>813.0</td>\n",
       "      <td>12.0</td>\n",
       "      <td>96.0</td>\n",
       "      <td>291.0</td>\n",
       "      <td>393.0</td>\n",
       "      <td>2.0</td>\n",
       "      <td>matched (3)</td>\n",
       "    </tr>\n",
       "    <tr>\n",
       "      <th>45231</th>\n",
       "      <td>202</td>\n",
       "      <td>61</td>\n",
       "      <td>36</td>\n",
       "      <td>19400.0</td>\n",
       "      <td>New York</td>\n",
       "      <td>48836.855</td>\n",
       "      <td>38.877193</td>\n",
       "      <td>0.242855</td>\n",
       "      <td>0.205191</td>\n",
       "      <td>0.224750</td>\n",
       "      <td>...</td>\n",
       "      <td>30068.887</td>\n",
       "      <td>57642.988</td>\n",
       "      <td>94115.094</td>\n",
       "      <td>1358.0</td>\n",
       "      <td>222.0</td>\n",
       "      <td>186.0</td>\n",
       "      <td>260.0</td>\n",
       "      <td>652.0</td>\n",
       "      <td>0.0</td>\n",
       "      <td>matched (3)</td>\n",
       "    </tr>\n",
       "    <tr>\n",
       "      <th>45232</th>\n",
       "      <td>500</td>\n",
       "      <td>61</td>\n",
       "      <td>36</td>\n",
       "      <td>19400.0</td>\n",
       "      <td>New York</td>\n",
       "      <td>0.000</td>\n",
       "      <td>0.000000</td>\n",
       "      <td>0.000000</td>\n",
       "      <td>0.000000</td>\n",
       "      <td>0.000000</td>\n",
       "      <td>...</td>\n",
       "      <td>11223.441</td>\n",
       "      <td>56542.367</td>\n",
       "      <td>163216.090</td>\n",
       "      <td>0.0</td>\n",
       "      <td>0.0</td>\n",
       "      <td>0.0</td>\n",
       "      <td>0.0</td>\n",
       "      <td>0.0</td>\n",
       "      <td>0.0</td>\n",
       "      <td>matched (3)</td>\n",
       "    </tr>\n",
       "    <tr>\n",
       "      <th>45233</th>\n",
       "      <td>600</td>\n",
       "      <td>61</td>\n",
       "      <td>36</td>\n",
       "      <td>19400.0</td>\n",
       "      <td>New York</td>\n",
       "      <td>42727.797</td>\n",
       "      <td>36.415771</td>\n",
       "      <td>0.137340</td>\n",
       "      <td>0.101212</td>\n",
       "      <td>0.601802</td>\n",
       "      <td>...</td>\n",
       "      <td>39271.461</td>\n",
       "      <td>61219.328</td>\n",
       "      <td>87014.063</td>\n",
       "      <td>2564.0</td>\n",
       "      <td>48.0</td>\n",
       "      <td>286.0</td>\n",
       "      <td>1462.0</td>\n",
       "      <td>698.0</td>\n",
       "      <td>7.0</td>\n",
       "      <td>matched (3)</td>\n",
       "    </tr>\n",
       "    <tr>\n",
       "      <th>45234</th>\n",
       "      <td>700</td>\n",
       "      <td>61</td>\n",
       "      <td>36</td>\n",
       "      <td>19400.0</td>\n",
       "      <td>New York</td>\n",
       "      <td>142697.800</td>\n",
       "      <td>21.555222</td>\n",
       "      <td>0.809285</td>\n",
       "      <td>0.736985</td>\n",
       "      <td>0.311308</td>\n",
       "      <td>...</td>\n",
       "      <td>30332.287</td>\n",
       "      <td>55265.430</td>\n",
       "      <td>86847.969</td>\n",
       "      <td>36.0</td>\n",
       "      <td>21.0</td>\n",
       "      <td>3.0</td>\n",
       "      <td>1.0</td>\n",
       "      <td>11.0</td>\n",
       "      <td>0.0</td>\n",
       "      <td>matched (3)</td>\n",
       "    </tr>\n",
       "    <tr>\n",
       "      <th>...</th>\n",
       "      <td>...</td>\n",
       "      <td>...</td>\n",
       "      <td>...</td>\n",
       "      <td>...</td>\n",
       "      <td>...</td>\n",
       "      <td>...</td>\n",
       "      <td>...</td>\n",
       "      <td>...</td>\n",
       "      <td>...</td>\n",
       "      <td>...</td>\n",
       "      <td>...</td>\n",
       "      <td>...</td>\n",
       "      <td>...</td>\n",
       "      <td>...</td>\n",
       "      <td>...</td>\n",
       "      <td>...</td>\n",
       "      <td>...</td>\n",
       "      <td>...</td>\n",
       "      <td>...</td>\n",
       "      <td>...</td>\n",
       "      <td>...</td>\n",
       "    </tr>\n",
       "    <tr>\n",
       "      <th>45510</th>\n",
       "      <td>30900</td>\n",
       "      <td>61</td>\n",
       "      <td>36</td>\n",
       "      <td>19400.0</td>\n",
       "      <td>New York</td>\n",
       "      <td>50557.906</td>\n",
       "      <td>49.650925</td>\n",
       "      <td>0.182698</td>\n",
       "      <td>0.151082</td>\n",
       "      <td>0.344635</td>\n",
       "      <td>...</td>\n",
       "      <td>32427.756</td>\n",
       "      <td>52411.898</td>\n",
       "      <td>75910.977</td>\n",
       "      <td>2305.0</td>\n",
       "      <td>78.0</td>\n",
       "      <td>529.0</td>\n",
       "      <td>36.0</td>\n",
       "      <td>1617.0</td>\n",
       "      <td>8.0</td>\n",
       "      <td>matched (3)</td>\n",
       "    </tr>\n",
       "    <tr>\n",
       "      <th>45511</th>\n",
       "      <td>31100</td>\n",
       "      <td>61</td>\n",
       "      <td>36</td>\n",
       "      <td>19400.0</td>\n",
       "      <td>New York</td>\n",
       "      <td>0.000</td>\n",
       "      <td>0.000000</td>\n",
       "      <td>0.000000</td>\n",
       "      <td>0.000000</td>\n",
       "      <td>0.000000</td>\n",
       "      <td>...</td>\n",
       "      <td>0.000</td>\n",
       "      <td>0.000</td>\n",
       "      <td>0.000</td>\n",
       "      <td>3.0</td>\n",
       "      <td>0.0</td>\n",
       "      <td>3.0</td>\n",
       "      <td>0.0</td>\n",
       "      <td>0.0</td>\n",
       "      <td>0.0</td>\n",
       "      <td>matched (3)</td>\n",
       "    </tr>\n",
       "    <tr>\n",
       "      <th>45512</th>\n",
       "      <td>31703</td>\n",
       "      <td>61</td>\n",
       "      <td>36</td>\n",
       "      <td>19400.0</td>\n",
       "      <td>New York</td>\n",
       "      <td>195213.020</td>\n",
       "      <td>26.337315</td>\n",
       "      <td>0.844499</td>\n",
       "      <td>0.754871</td>\n",
       "      <td>0.316874</td>\n",
       "      <td>...</td>\n",
       "      <td>57779.570</td>\n",
       "      <td>60805.125</td>\n",
       "      <td>63479.203</td>\n",
       "      <td>668.0</td>\n",
       "      <td>439.0</td>\n",
       "      <td>21.0</td>\n",
       "      <td>123.0</td>\n",
       "      <td>48.0</td>\n",
       "      <td>1.0</td>\n",
       "      <td>matched (3)</td>\n",
       "    </tr>\n",
       "    <tr>\n",
       "      <th>45513</th>\n",
       "      <td>31704</td>\n",
       "      <td>61</td>\n",
       "      <td>36</td>\n",
       "      <td>19400.0</td>\n",
       "      <td>New York</td>\n",
       "      <td>195213.020</td>\n",
       "      <td>26.337313</td>\n",
       "      <td>0.814636</td>\n",
       "      <td>0.754871</td>\n",
       "      <td>0.407541</td>\n",
       "      <td>...</td>\n",
       "      <td>30697.662</td>\n",
       "      <td>52547.668</td>\n",
       "      <td>78988.555</td>\n",
       "      <td>492.0</td>\n",
       "      <td>323.0</td>\n",
       "      <td>16.0</td>\n",
       "      <td>90.0</td>\n",
       "      <td>35.0</td>\n",
       "      <td>0.0</td>\n",
       "      <td>matched (3)</td>\n",
       "    </tr>\n",
       "    <tr>\n",
       "      <th>45514</th>\n",
       "      <td>31900</td>\n",
       "      <td>61</td>\n",
       "      <td>36</td>\n",
       "      <td>19400.0</td>\n",
       "      <td>New York</td>\n",
       "      <td>138674.380</td>\n",
       "      <td>28.757427</td>\n",
       "      <td>0.000000</td>\n",
       "      <td>0.352941</td>\n",
       "      <td>0.000000</td>\n",
       "      <td>...</td>\n",
       "      <td>0.000</td>\n",
       "      <td>0.000</td>\n",
       "      <td>0.000</td>\n",
       "      <td>19.0</td>\n",
       "      <td>9.0</td>\n",
       "      <td>1.0</td>\n",
       "      <td>4.0</td>\n",
       "      <td>4.0</td>\n",
       "      <td>0.0</td>\n",
       "      <td>matched (3)</td>\n",
       "    </tr>\n",
       "  </tbody>\n",
       "</table>\n",
       "<p>285 rows × 63 columns</p>\n",
       "</div>"
      ],
      "text/plain": [
       "       tract  county  state       cz    czname  hhinc_mean2000  \\\n",
       "45230    201      61     36  19400.0  New York       43571.824   \n",
       "45231    202      61     36  19400.0  New York       48836.855   \n",
       "45232    500      61     36  19400.0  New York           0.000   \n",
       "45233    600      61     36  19400.0  New York       42727.797   \n",
       "45234    700      61     36  19400.0  New York      142697.800   \n",
       "...      ...     ...    ...      ...       ...             ...   \n",
       "45510  30900      61     36  19400.0  New York       50557.906   \n",
       "45511  31100      61     36  19400.0  New York           0.000   \n",
       "45512  31703      61     36  19400.0  New York      195213.020   \n",
       "45513  31704      61     36  19400.0  New York      195213.020   \n",
       "45514  31900      61     36  19400.0  New York      138674.380   \n",
       "\n",
       "       mean_commutetime2000  frac_coll_plus2010  frac_coll_plus2000  \\\n",
       "45230             37.127106            0.158639            0.138534   \n",
       "45231             38.877193            0.242855            0.205191   \n",
       "45232              0.000000            0.000000            0.000000   \n",
       "45233             36.415771            0.137340            0.101212   \n",
       "45234             21.555222            0.809285            0.736985   \n",
       "...                     ...                 ...                 ...   \n",
       "45510             49.650925            0.182698            0.151082   \n",
       "45511              0.000000            0.000000            0.000000   \n",
       "45512             26.337315            0.844499            0.754871   \n",
       "45513             26.337313            0.814636            0.754871   \n",
       "45514             28.757427            0.000000            0.352941   \n",
       "\n",
       "       foreign_share2010  ...  kfr_white_p25  kfr_white_p75  kfr_white_p100  \\\n",
       "45230           0.454364  ...          0.000          0.000           0.000   \n",
       "45231           0.224750  ...      30068.887      57642.988       94115.094   \n",
       "45232           0.000000  ...      11223.441      56542.367      163216.090   \n",
       "45233           0.601802  ...      39271.461      61219.328       87014.063   \n",
       "45234           0.311308  ...      30332.287      55265.430       86847.969   \n",
       "...                  ...  ...            ...            ...             ...   \n",
       "45510           0.344635  ...      32427.756      52411.898       75910.977   \n",
       "45511           0.000000  ...          0.000          0.000           0.000   \n",
       "45512           0.316874  ...      57779.570      60805.125       63479.203   \n",
       "45513           0.407541  ...      30697.662      52547.668       78988.555   \n",
       "45514           0.000000  ...          0.000          0.000           0.000   \n",
       "\n",
       "       count_pooled  count_white  count_black  count_asian  count_hisp  \\\n",
       "45230         813.0         12.0         96.0        291.0       393.0   \n",
       "45231        1358.0        222.0        186.0        260.0       652.0   \n",
       "45232           0.0          0.0          0.0          0.0         0.0   \n",
       "45233        2564.0         48.0        286.0       1462.0       698.0   \n",
       "45234          36.0         21.0          3.0          1.0        11.0   \n",
       "...             ...          ...          ...          ...         ...   \n",
       "45510        2305.0         78.0        529.0         36.0      1617.0   \n",
       "45511           3.0          0.0          3.0          0.0         0.0   \n",
       "45512         668.0        439.0         21.0        123.0        48.0   \n",
       "45513         492.0        323.0         16.0         90.0        35.0   \n",
       "45514          19.0          9.0          1.0          4.0         4.0   \n",
       "\n",
       "       count_natam  mergecounts  \n",
       "45230          2.0  matched (3)  \n",
       "45231          0.0  matched (3)  \n",
       "45232          0.0  matched (3)  \n",
       "45233          7.0  matched (3)  \n",
       "45234          0.0  matched (3)  \n",
       "...            ...          ...  \n",
       "45510          8.0  matched (3)  \n",
       "45511          0.0  matched (3)  \n",
       "45512          1.0  matched (3)  \n",
       "45513          0.0  matched (3)  \n",
       "45514          0.0  matched (3)  \n",
       "\n",
       "[285 rows x 63 columns]"
      ]
     },
     "execution_count": 27,
     "metadata": {},
     "output_type": "execute_result"
    }
   ],
   "source": [
    "find_county(36,61)"
   ]
  },
  {
   "cell_type": "code",
   "execution_count": 28,
   "metadata": {},
   "outputs": [],
   "source": [
    "def weighted_std(city_df, col_name):\n",
    "    city_df.dropna()\n",
    "    top = 0\n",
    "    mean = weighted_avg(city_df,col_name)\n",
    "    for index, row in city_df.iterrows():\n",
    "        top=top+((row[col_name]-mean)**2)\n",
    "    return np.sqrt(top/sum(city_df['count_pooled']))"
   ]
  },
  {
   "cell_type": "code",
   "execution_count": 29,
   "metadata": {},
   "outputs": [
    {
     "data": {
      "text/plain": [
       "326.14913071362935"
      ]
     },
     "execution_count": 29,
     "metadata": {},
     "output_type": "execute_result"
    }
   ],
   "source": [
    "weighted_std(find_county(36,61),'kfr_pooled_p25')"
   ]
  },
  {
   "cell_type": "code",
   "execution_count": 39,
   "metadata": {},
   "outputs": [
    {
     "data": {
      "text/plain": [
       "35175.238344771635"
      ]
     },
     "execution_count": 39,
     "metadata": {},
     "output_type": "execute_result"
    }
   ],
   "source": [
    "np.average(cleaned_nyc['kfr_pooled_p25'], weights = cleaned_nyc['count_pooled'])"
   ]
  },
  {
   "cell_type": "code",
   "execution_count": 36,
   "metadata": {},
   "outputs": [
    {
     "data": {
      "text/plain": [
       "(1283,)"
      ]
     },
     "execution_count": 36,
     "metadata": {},
     "output_type": "execute_result"
    }
   ],
   "source": [
    "cleaned_nyc['count_pooled'].shape"
   ]
  },
  {
   "cell_type": "code",
   "execution_count": 37,
   "metadata": {},
   "outputs": [
    {
     "data": {
      "text/plain": [
       "(1283,)"
      ]
     },
     "execution_count": 37,
     "metadata": {},
     "output_type": "execute_result"
    }
   ],
   "source": [
    "cleaned_nyc['kfr_pooled_p25'].shape"
   ]
  },
  {
   "cell_type": "code",
   "execution_count": 1,
   "metadata": {},
   "outputs": [],
   "source": [
    "def weighted_avg_and_std(values, weights):\n",
    "    \"\"\"\n",
    "    Return the weighted average and standard deviation.\n",
    "\n",
    "    values, weights -- Numpy ndarrays with the same shape.\n",
    "    \"\"\"\n",
    "    average = numpy.average(values, weights=weights)\n",
    "    # Fast and numerically precise:\n",
    "    variance = numpy.average((values-average)**2, weights=weights)\n",
    "    return (average, math.sqrt(variance))"
   ]
  },
  {
   "cell_type": "code",
   "execution_count": null,
   "metadata": {},
   "outputs": [],
   "source": []
  }
 ],
 "metadata": {
  "kernelspec": {
   "display_name": "Python 3",
   "language": "python",
   "name": "python3"
  },
  "language_info": {
   "codemirror_mode": {
    "name": "ipython",
    "version": 3
   },
   "file_extension": ".py",
   "mimetype": "text/x-python",
   "name": "python",
   "nbconvert_exporter": "python",
   "pygments_lexer": "ipython3",
   "version": "3.7.4"
  }
 },
 "nbformat": 4,
 "nbformat_minor": 2
}
