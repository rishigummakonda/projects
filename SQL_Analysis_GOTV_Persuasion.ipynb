{
  "cells": [
    {
      "cell_type": "markdown",
      "source": [
        "## GOTV Tiers Analysis"
      ],
      "metadata": {
        "noteable": {
          "cell_type": "markdown"
        }
      },
      "id": "85e15e82-e935-4fe7-a73f-23e74ceb9523"
    },
    {
      "cell_type": "code",
      "source": [
        "%%sql @noteable\n",
        "-- GOTV Tiers\n",
        "CREATE OR REPLACE TABLE `team10sept2023.gotv_tiers.gotv_tiers2` AS\n",
        "SELECT\n",
        "  CASE\n",
        "    WHEN support_score BETWEEN 90 AND 100 AND turnout_score BETWEEN 40 AND 60 THEN 'Tier 1'\n",
        "    WHEN support_score BETWEEN 85 AND 100 AND turnout_score BETWEEN 35 AND 65 THEN 'Tier 2'\n",
        "    WHEN support_score BETWEEN 80 AND 100 AND turnout_score BETWEEN 30 AND 70 THEN 'Tier 3'\n",
        "    WHEN support_score BETWEEN 75 AND 100 AND turnout_score BETWEEN 20 AND 80 THEN 'Tier 4'\n",
        "    ELSE 'Tier 5'\n",
        "  END as gotv_tier,\n",
        "  p.ethnicity,\n",
        "  CASE\n",
        "    WHEN p.age BETWEEN 18 AND 29 THEN '18-29'\n",
        "    WHEN p.age BETWEEN 30 AND 39 THEN '30-39'\n",
        "    WHEN p.age BETWEEN 40 AND 49 THEN '40-49'\n",
        "    WHEN p.age BETWEEN 50 AND 59 THEN '50-59'\n",
        "    WHEN p.age BETWEEN 60 AND 64 THEN '60-64'\n",
        "    WHEN p.age >= 65 THEN '65+'\n",
        "  ELSE\n",
        "  'Age Unknown'\n",
        "END as age_range,\n",
        "  COUNT(p.unique_id) as people,\n",
        "  COUNT(DISTINCT p.voting_address_id) as doors,\n",
        "  COUNT(DISTINCT p.cell_id) as cell_phones,\n",
        "  COUNT(DISTINCT p.landline_id) as landlines,\n",
        "FROM arenatraining.analytics.person p\n",
        "LEFT JOIN arenatraining.scores.scores_2024 s\n",
        "  ON p.unique_id = s.unique_id\n",
        "  AND p.state_code = s.state_code\n",
        "WHERE\n",
        "  p.registration_date IS NOT NULL\n",
        "  AND p.state_code = 'MI'\n",
        "  AND us_cong_district = '010'\n",
        "GROUP BY gotv_tier,p.ethnicity, age_range\n",
        "ORDER BY gotv_tier ASC;\n",
        "\n",
        "SELECT * FROM `team10sept2023.gotv_tiers.gotv_tiers2` LIMIT 1000;"
      ],
      "outputs": [],
      "execution_count": null,
      "metadata": {
        "noteable": {
          "assign_results_to": "sql_df_1",
          "cell_type": "sql",
          "db_connection": "@noteable"
        }
      },
      "id": "1922e631-5035-4663-8403-ac2112adbc77"
    },
    {
      "cell_type": "code",
      "source": [
        "%%sql @noteable\n",
        "-- Support Tiers\n",
        "CREATE OR REPLACE TABLE  `team10sept2023.gotv_tiers.support_tiers2` AS\n",
        "SELECT\n",
        "  CASE\n",
        "    WHEN support_score BETWEEN 90 AND 100 THEN 'Support Tier 1'\n",
        "    WHEN support_score BETWEEN 80 AND 89 THEN 'Support Tier 2'\n",
        "    WHEN support_score BETWEEN 70 AND 79 THEN 'Support Tier 3'\n",
        "    ELSE 'Support Tier 4'\n",
        "  END as support_tier,\n",
        "  p.ethnicity,\n",
        "    CASE\n",
        "    WHEN p.age BETWEEN 18 AND 29 THEN '18-29'\n",
        "    WHEN p.age BETWEEN 30 AND 39 THEN '30-39'\n",
        "    WHEN p.age BETWEEN 40 AND 49 THEN '40-49'\n",
        "    WHEN p.age BETWEEN 50 AND 59 THEN '50-59'\n",
        "    WHEN p.age BETWEEN 60 AND 64 THEN '60-64'\n",
        "    WHEN p.age >= 65 THEN '65+'\n",
        "  ELSE\n",
        "  'Age Unknown'\n",
        "END as age_range,\n",
        "  COUNT(p.unique_id) as people,\n",
        "  COUNT(DISTINCT p.voting_address_id) as doors,\n",
        "  COUNT(DISTINCT p.cell_id) as cell_phones,\n",
        "  COUNT(DISTINCT p.landline_id) as landlines,\n",
        "FROM arenatraining.analytics.person p\n",
        "LEFT JOIN arenatraining.scores.scores_2024 s\n",
        "  ON p.unique_id = s.unique_id\n",
        "  AND p.state_code = s.state_code\n",
        "WHERE\n",
        "  p.registration_date IS NOT NULL\n",
        "  AND p.state_code = 'MI'\n",
        "  AND us_cong_district = '010'\n",
        "GROUP BY support_tier, p.ethnicity, age_range\n",
        "ORDER BY support_tier ASC;\n",
        "SELECT * FROM `team10sept2023.gotv_tiers.support_tiers2` LIMIT 1000;"
      ],
      "outputs": [],
      "execution_count": null,
      "metadata": {
        "noteable": {
          "assign_results_to": "sql_df_2",
          "cell_type": "sql",
          "db_connection": "@noteable"
        }
      },
      "id": "d57258aa-7b03-4170-b35d-bc34fa2b8774"
    },
    {
      "cell_type": "code",
      "source": [
        "%%sql @d85b7eedd3ca46daa47c0ee943dafa72\n",
        "-- Turnout Tiers\n",
        "CREATE OR REPLACE TABLE `team10sept2023.gotv_tiers.turnout_tiers2` AS\n",
        "SELECT\n",
        "  CASE\n",
        "    WHEN turnout_score BETWEEN 40 AND 60 THEN 'Turnout Tier 1'\n",
        "    WHEN turnout_score BETWEEN 30 AND 39 OR turnout_score BETWEEN 61 AND 70 THEN 'Turnout Tier 2'\n",
        "    WHEN turnout_score BETWEEN 20 AND 29 OR turnout_score BETWEEN 71 AND 80 THEN 'Turnout Tier 3'\n",
        "    ELSE 'Turnout Tier 4'\n",
        "  END as turnout_tier,\n",
        "  p.ethnicity,\n",
        "  CASE\n",
        "    WHEN p.age BETWEEN 18 AND 29 THEN '18-29'\n",
        "    WHEN p.age BETWEEN 30 AND 39 THEN '30-39'\n",
        "    WHEN p.age BETWEEN 40 AND 49 THEN '40-49'\n",
        "    WHEN p.age BETWEEN 50 AND 59 THEN '50-59'\n",
        "    WHEN p.age BETWEEN 60 AND 64 THEN '60-64'\n",
        "    WHEN p.age >= 65 THEN '65+'\n",
        "  ELSE\n",
        "  'Age Unknown'\n",
        "END as age_range,\n",
        "  COUNT(p.unique_id) as people,\n",
        "  COUNT(DISTINCT p.voting_address_id) as doors,\n",
        "  COUNT(DISTINCT p.cell_id) as cell_phones,\n",
        "  COUNT(DISTINCT p.landline_id) as landlines,\n",
        "FROM arenatraining.analytics.person p\n",
        "LEFT JOIN arenatraining.scores.scores_2024 s\n",
        "  ON p.unique_id = s.unique_id\n",
        "  AND p.state_code = s.state_code\n",
        "WHERE\n",
        "  p.registration_date IS NOT NULL\n",
        "  AND p.state_code = 'MI'\n",
        "  AND us_cong_district = '010'\n",
        "GROUP BY turnout_tier, p.ethnicity, age_range\n",
        "ORDER BY turnout_tier ASC;\n",
        "SELECT * FROM `team10sept2023.gotv_tiers.turnout_tiers2` LIMIT 1000;"
      ],
      "outputs": [],
      "execution_count": null,
      "metadata": {
        "noteable": {
          "cell_type": "sql",
          "db_connection": "@d85b7eedd3ca46daa47c0ee943dafa72",
          "assign_results_to": "sql_df_3"
        }
      },
      "id": "55613e8d-5ec2-4c5e-a745-44547b6a8885"
    },
    {
      "cell_type": "markdown",
      "source": [
        "## Persuadability Tiers Analysis"
      ],
      "metadata": {
        "noteable": {
          "cell_type": "markdown"
        }
      },
      "id": "6c95e5ef-8419-4d02-8596-1270ffa6484e"
    },
    {
      "cell_type": "code",
      "source": [
        "%%sql @noteable\n",
        "-- Persuadability Tiers\n",
        "CREATE OR REPLACE TABLE `team10sept2023.persuadability.persuasion_tiers2` AS\n",
        "SELECT\n",
        "  CASE\n",
        "    WHEN persuadability_score BETWEEN 4.5 AND 5 THEN 'Tier 1'\n",
        "    WHEN persuadability_score > 4 AND persuadability_score <= 4.5 THEN 'Tier 2'\n",
        "    WHEN persuadability_score > 3.5 AND persuadability_score <= 4 THEN 'Tier 3'\n",
        "    WHEN persuadability_score > 3 AND persuadability_score <= 3.5 THEN 'Tier 4'\n",
        "  ELSE\n",
        "  'Tier 5'\n",
        "END AS persuasion_tier,\n",
        "  p.ethnicity,\n",
        "  CASE\n",
        "    WHEN p.age BETWEEN 18 AND 29 THEN '18-29'\n",
        "    WHEN p.age BETWEEN 30 AND 39 THEN '30-39'\n",
        "    WHEN p.age BETWEEN 40 AND 49 THEN '40-49'\n",
        "    WHEN p.age BETWEEN 50 AND 59 THEN '50-59'\n",
        "    WHEN p.age BETWEEN 60 AND 64 THEN '60-64'\n",
        "    WHEN p.age >= 65 THEN '65+'\n",
        "  ELSE\n",
        "  'Age Unknown'\n",
        "END AS age_range,\n",
        "  COUNT(p.unique_id) AS people,\n",
        "  COUNT(DISTINCT p.voting_address_id) AS doors,\n",
        "  COUNT(DISTINCT p.cell_id) AS cell_phones,\n",
        "  COUNT(DISTINCT p.landline_id) AS landlines,\n",
        "FROM arenatraining.analytics.person p\n",
        "LEFT JOIN arenatraining.scores.scores_2024 s\n",
        "  ON p.unique_id = s.unique_id\n",
        "  AND p.state_code = s.state_code\n",
        "WHERE\n",
        "  p.registration_date IS NOT NULL\n",
        "  AND p.state_code = 'MI'\n",
        "  AND us_cong_district = '010'\n",
        "GROUP BY persuasion_tier, p.ethnicity, age_range\n",
        "ORDER BY persuasion_tier ASC;\n",
        "\n",
        "SELECT * FROM `team10sept2023.persuadability.persuasion_tiers2` LIMIT 1000;"
      ],
      "outputs": [],
      "execution_count": null,
      "metadata": {
        "jupyter": {
          "source_hidden": false,
          "outputs_hidden": false
        },
        "noteable": {
          "cell_type": "sql",
          "db_connection": "@noteable",
          "assign_results_to": "sql_df_4"
        }
      },
      "id": "b9d83dfd-e627-4915-9262-de1afb1d04de"
    },
    {
      "cell_type": "markdown",
      "source": [
        "## Categories of Voters by Ethnicity and Age"
      ],
      "metadata": {
        "noteable": {
          "cell_type": "markdown"
        }
      },
      "id": "73bee09c-7795-4e36-88b6-236add6726ea"
    },
    {
      "cell_type": "code",
      "source": [
        "%%sql @noteable\n",
        "CREATE OR REPLACE TABLE `team10sept2023.categories_of_voters.categories_by_ethnicity_age` AS\n",
        "SELECT\n",
        "  CASE\n",
        "    WHEN support_score >= 85 AND turnout_score >= 35 AND persuadability_score >= 4 THEN 'High Support, High Turnout, High Persuasion'\n",
        "    WHEN support_score BETWEEN 70 AND 84 AND turnout_score BETWEEN 20 AND 34 AND persuadability_score >= 3.5 THEN 'Medium Support, Medium Turnout, Medium/High Persuasion'\n",
        "    WHEN support_score BETWEEN 50 AND 69 AND turnout_score BETWEEN 10 AND 19 AND persuadability_score BETWEEN 3 AND 3.49 THEN 'Low Support, Low Turnout, Low Persuasion'\n",
        "    WHEN support_score < 50 AND turnout_score >= 35 AND persuadability_score BETWEEN 3.5 AND 4.49 THEN 'Very Low Support, High Turnout, Medium Persuasion'\n",
        "    WHEN support_score BETWEEN 70 AND 84 AND turnout_score < 20 AND persuadability_score >= 4 THEN 'Medium Support, Very Low Turnout, High Persuasion'\n",
        "    WHEN support_score >= 85 AND turnout_score BETWEEN 20 AND 34 AND persuadability_score <= 3 THEN 'High Support, Medium Turnout, Very Low Persuasion'\n",
        "    WHEN support_score < 50 AND turnout_score < 20 AND persuadability_score >= 4.5 THEN 'Very Low Support, Very Low Turnout, High Persuasion'\n",
        "    WHEN support_score BETWEEN 50 AND 69 AND turnout_score >= 35 AND persuadability_score <= 3 THEN 'Low Support, High Turnout, Very Low Persuasion'\n",
        "    -- Additional categories\n",
        "    WHEN support_score BETWEEN 85 AND 100 AND turnout_score < 20 AND persuadability_score BETWEEN 4.5 AND 5 THEN 'High Support, Very Low Turnout, High Persuasion'\n",
        "    WHEN support_score BETWEEN 70 AND 84 AND turnout_score BETWEEN 20 AND 39 AND persuadability_score BETWEEN 4 AND 4.49 THEN 'Medium Support, Low Turnout, Medium-High Persuasion'\n",
        "    WHEN support_score < 50 AND turnout_score BETWEEN 40 AND 60 AND persuadability_score > 4 THEN 'Very Low Support, Medium Turnout, High Persuasion'\n",
        "    WHEN support_score BETWEEN 50 AND 69 AND turnout_score < 20 AND persuadability_score BETWEEN 3 AND 3.49 THEN 'Low Support, Very Low Turnout, Low Persuasion'\n",
        "    WHEN support_score BETWEEN 85 AND 100 AND turnout_score BETWEEN 61 AND 80 AND persuadability_score BETWEEN 3.5 AND 4.49 THEN 'High Support, High-Medium Turnout, Medium Persuasion'\n",
        "    WHEN support_score BETWEEN 70 AND 84 AND turnout_score BETWEEN 61 AND 80 AND persuadability_score BETWEEN 3 AND 3.49 THEN 'Medium Support, High Turnout, Low Persuasion'\n",
        "    WHEN support_score BETWEEN 50 AND 69 AND turnout_score BETWEEN 40 AND 60 AND persuadability_score > 4 THEN 'Low Support, Medium Turnout, High Persuasion'\n",
        "    WHEN support_score BETWEEN 85 AND 100 AND turnout_score BETWEEN 20 AND 39 AND persuadability_score BETWEEN 3 AND 3.49 THEN 'High Support, Low Turnout, Low Persuasion'\n",
        "  ELSE\n",
        "  'Other Categories'\n",
        "END AS combined_tier,\n",
        "  p.ethnicity,\n",
        "  CASE\n",
        "    WHEN p.age BETWEEN 18 AND 29 THEN '18-29'\n",
        "    WHEN p.age BETWEEN 30 AND 39 THEN '30-39'\n",
        "    WHEN p.age BETWEEN 40 AND 49 THEN '40-49'\n",
        "    WHEN p.age BETWEEN 50 AND 59 THEN '50-59'\n",
        "    WHEN p.age BETWEEN 60 AND 64 THEN '60-64'\n",
        "    WHEN p.age >= 65 THEN '65+'\n",
        "  ELSE\n",
        "  'Age Unknown'\n",
        "END AS age_range,\n",
        "  COUNT(p.unique_id) AS people,\n",
        "  COUNT(DISTINCT p.voting_address_id) AS doors,\n",
        "  COUNT(DISTINCT p.cell_id) AS cell_phones,\n",
        "  COUNT(DISTINCT p.landline_id) AS landlines\n",
        "FROM\n",
        "  arenatraining.analytics.person p\n",
        "LEFT JOIN\n",
        "  arenatraining.scores.scores_2024 s\n",
        "ON\n",
        "  p.unique_id = s.unique_id\n",
        "  AND p.state_code = s.state_code\n",
        "WHERE\n",
        "  p.registration_date IS NOT NULL\n",
        "  AND p.state_code = 'MI'\n",
        "  AND us_cong_district = '010'\n",
        "GROUP BY\n",
        "  combined_tier,\n",
        "  p.ethnicity,\n",
        "  age_range\n",
        "ORDER BY\n",
        "  people DESC;"
      ],
      "outputs": [],
      "execution_count": null,
      "metadata": {
        "jupyter": {
          "source_hidden": false,
          "outputs_hidden": false
        },
        "noteable": {
          "cell_type": "sql",
          "db_connection": "@noteable",
          "assign_results_to": "sql_df_6"
        }
      },
      "id": "e42c9f57-d193-457e-89bf-884d13551094"
    },
    {
      "cell_type": "markdown",
      "source": [
        "## Unregistered Voters Persuasion"
      ],
      "metadata": {
        "noteable": {
          "cell_type": "markdown"
        }
      },
      "id": "d3fdc0f6-80f5-4d1a-8e05-e54ec64a0b89"
    },
    {
      "cell_type": "code",
      "source": [
        "%%sql @noteable\n",
        "SELECT \n",
        "    p.ethnicity,\n",
        "    CASE\n",
        "        WHEN p.age BETWEEN 18 AND 29 THEN '18-29'\n",
        "        WHEN p.age BETWEEN 30 AND 39 THEN '30-39'\n",
        "        WHEN p.age BETWEEN 40 AND 49 THEN '40-49'\n",
        "        WHEN p.age BETWEEN 50 AND 64 THEN '50-64'\n",
        "        WHEN p.age >= 65 THEN '65+'\n",
        "        ELSE 'Age Unknown'\n",
        "    END AS age,\n",
        "    CASE\n",
        "        WHEN s.support_score >= 80 AND s.turnout_score >= 40 THEN 'High Support & Turnout'\n",
        "        WHEN s.support_score >= 80 AND s.turnout_score < 40 THEN 'High Support & Low Turnout'\n",
        "        WHEN s.support_score < 80 AND s.turnout_score >= 40 THEN 'Low Support & High Turnout'\n",
        "        WHEN s.support_score < 80 AND s.turnout_score < 40 THEN 'Low Support & Turnout'\n",
        "    END AS gotv_tier,\n",
        "    CASE\n",
        "        WHEN s.persuadability_score >= 4 THEN 'High Persuasion'\n",
        "        WHEN s.persuadability_score >= 3 THEN 'Medium Persuasion'\n",
        "        WHEN s.persuadability_score < 3 THEN 'Low Persuasion'\n",
        "    END AS persuasion_tier,\n",
        "    COUNT(DISTINCT p.unique_id) AS people_count,\n",
        "    COUNT(DISTINCT p.voting_address_id) AS distinct_hh,\n",
        "    COUNT(DISTINCT p.cell_id) AS distinct_cell,\n",
        "    COUNT(DISTINCT p.landline_id) AS distinct_landline\n",
        "FROM \n",
        "    arenatraining.analytics.person p\n",
        "LEFT JOIN \n",
        "    arenatraining.scores.scores_2024 s \n",
        "ON \n",
        "    p.unique_id = s.unique_id\n",
        "WHERE \n",
        "    p.registration_date IS  NULL\n",
        "    AND p.state_code = 'MI' \n",
        "    AND us_cong_district = '010'\n",
        "GROUP BY \n",
        "    p.ethnicity, age, gotv_tier, persuasion_tier\n",
        "ORDER BY \n",
        "    p.ethnicity, age, gotv_tier, persuasion_tier;\n"
      ],
      "outputs": [],
      "execution_count": null,
      "metadata": {
        "jupyter": {
          "source_hidden": false,
          "outputs_hidden": false
        },
        "noteable": {
          "cell_type": "sql",
          "db_connection": "@noteable",
          "assign_results_to": "sql_df_7"
        }
      },
      "id": "85b2dc25-a5ae-470e-8207-167f6e000468"
    },
    {
      "cell_type": "markdown",
      "source": [
        "## Categories of Voters by Ethnicity and Age"
      ],
      "metadata": {
        "noteable": {
          "cell_type": "markdown"
        }
      },
      "id": "cef14a25-e8d2-4387-980a-4c55b30febda"
    },
    {
      "cell_type": "code",
      "source": [
        "CREATE OR REPLACE TABLE `team10sept2023.categories_of_voters.categories_by_ethnicity_age` AS\n",
        "SELECT\n",
        "  CASE\n",
        "    WHEN support_score >= 85 AND turnout_score >= 35 AND persuadability_score >= 4 THEN 'High Support, High Turnout, High Persuasion'\n",
        "    WHEN support_score BETWEEN 70 AND 84 AND turnout_score BETWEEN 20 AND 34 AND persuadability_score >= 3.5 THEN 'Medium Support, Medium Turnout, Medium/High Persuasion'\n",
        "    WHEN support_score BETWEEN 50 AND 69 AND turnout_score BETWEEN 10 AND 19 AND persuadability_score BETWEEN 3 AND 3.49 THEN 'Low Support, Low Turnout, Low Persuasion'\n",
        "    WHEN support_score < 50 AND turnout_score >= 35 AND persuadability_score BETWEEN 3.5 AND 4.49 THEN 'Very Low Support, High Turnout, Medium Persuasion'\n",
        "    WHEN support_score BETWEEN 70 AND 84 AND turnout_score < 20 AND persuadability_score >= 4 THEN 'Medium Support, Very Low Turnout, High Persuasion'\n",
        "    WHEN support_score >= 85 AND turnout_score BETWEEN 20 AND 34 AND persuadability_score <= 3 THEN 'High Support, Medium Turnout, Very Low Persuasion'\n",
        "    WHEN support_score < 50 AND turnout_score < 20 AND persuadability_score >= 4.5 THEN 'Very Low Support, Very Low Turnout, High Persuasion'\n",
        "    WHEN support_score BETWEEN 50 AND 69 AND turnout_score >= 35 AND persuadability_score <= 3 THEN 'Low Support, High Turnout, Very Low Persuasion'\n",
        "    -- Additional categories\n",
        "    WHEN support_score BETWEEN 85 AND 100 AND turnout_score < 20 AND persuadability_score BETWEEN 4.5 AND 5 THEN 'High Support, Very Low Turnout, High Persuasion'\n",
        "    WHEN support_score BETWEEN 70 AND 84 AND turnout_score BETWEEN 20 AND 39 AND persuadability_score BETWEEN 4 AND 4.49 THEN 'Medium Support, Low Turnout, Medium-High Persuasion'\n",
        "    WHEN support_score < 50 AND turnout_score BETWEEN 40 AND 60 AND persuadability_score > 4 THEN 'Very Low Support, Medium Turnout, High Persuasion'\n",
        "    WHEN support_score BETWEEN 50 AND 69 AND turnout_score < 20 AND persuadability_score BETWEEN 3 AND 3.49 THEN 'Low Support, Very Low Turnout, Low Persuasion'\n",
        "    WHEN support_score BETWEEN 85 AND 100 AND turnout_score BETWEEN 61 AND 80 AND persuadability_score BETWEEN 3.5 AND 4.49 THEN 'High Support, High-Medium Turnout, Medium Persuasion'\n",
        "    WHEN support_score BETWEEN 70 AND 84 AND turnout_score BETWEEN 61 AND 80 AND persuadability_score BETWEEN 3 AND 3.49 THEN 'Medium Support, High Turnout, Low Persuasion'\n",
        "    WHEN support_score BETWEEN 50 AND 69 AND turnout_score BETWEEN 40 AND 60 AND persuadability_score > 4 THEN 'Low Support, Medium Turnout, High Persuasion'\n",
        "    WHEN support_score BETWEEN 85 AND 100 AND turnout_score BETWEEN 20 AND 39 AND persuadability_score BETWEEN 3 AND 3.49 THEN 'High Support, Low Turnout, Low Persuasion'\n",
        "  ELSE\n",
        "  'Other Categories'\n",
        "END AS combined_tier,\n",
        "  p.ethnicity,\n",
        "  CASE\n",
        "    WHEN p.age BETWEEN 18 AND 29 THEN '18-29'\n",
        "    WHEN p.age BETWEEN 30 AND 39 THEN '30-39'\n",
        "    WHEN p.age BETWEEN 40 AND 49 THEN '40-49'\n",
        "    WHEN p.age BETWEEN 50 AND 59 THEN '50-59'\n",
        "    WHEN p.age BETWEEN 60 AND 64 THEN '60-64'\n",
        "    WHEN p.age >= 65 THEN '65+'\n",
        "  ELSE\n",
        "  'Age Unknown'\n",
        "END AS age_range,\n",
        "  COUNT(p.unique_id) AS people,\n",
        "  COUNT(DISTINCT p.voting_address_id) AS doors,\n",
        "  COUNT(DISTINCT p.cell_id) AS cell_phones,\n",
        "  COUNT(DISTINCT p.landline_id) AS landlines\n",
        "FROM\n",
        "  arenatraining.analytics.person p\n",
        "LEFT JOIN\n",
        "  arenatraining.scores.scores_2024 s\n",
        "ON\n",
        "  p.unique_id = s.unique_id\n",
        "  AND p.state_code = s.state_code\n",
        "WHERE\n",
        "  p.registration_date IS NOT NULL\n",
        "  AND p.state_code = 'MI'\n",
        "  AND us_cong_district = '010'\n",
        "GROUP BY\n",
        "  combined_tier,\n",
        "  p.ethnicity,\n",
        "  age_range\n",
        "ORDER BY\n",
        "  people DESC;"
      ],
      "outputs": [],
      "execution_count": null,
      "metadata": {
        "noteable": {
          "cell_type": "code"
        }
      },
      "id": "7c18bfdb-268b-40fc-ba33-15e1fecc68c3"
    }
  ],
  "metadata": {
    "noteable-chatgpt": {
      "create_notebook": {
        "openai_conversation_id": "f44a51e4-89a0-5d67-ada2-12b38596b0f3",
        "openai_ephemeral_user_id": "dc413e0e-ee87-52a0-8b4b-9ecc76233b91",
        "openai_subdivision1_iso_code": "US-NJ"
      }
    },
    "kernel_info": {
      "name": "python3"
    },
    "kernelspec": {
      "display_name": "Python 3.9",
      "identifier": "legacy",
      "language": "python",
      "language_version": "3.9",
      "name": "python3"
    },
    "selected_hardware_size": "small",
    "noteable": {
      "db_connection": "@noteable",
      "last_delta_id": "3de8fa5a-78fe-45da-90c2-e81e208fffb7"
    },
    "nteract": {
      "version": "noteable@2.9.0"
    }
  },
  "nbformat": 4,
  "nbformat_minor": 5
}